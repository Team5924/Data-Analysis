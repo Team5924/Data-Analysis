{
 "cells": [
  {
   "cell_type": "code",
   "execution_count": 38,
   "metadata": {},
   "outputs": [],
   "source": [
    "# Imports\n",
    "import pandas as pd\n",
    "import numpy as np\n",
    "from tools import process\n",
    "from tools import filter"
   ]
  },
  {
   "cell_type": "code",
   "execution_count": 39,
   "metadata": {},
   "outputs": [
    {
     "name": "stdout",
     "output_type": "stream",
     "text": [
      "[[ 0  5  1  0 11  0  1  4  0  1  7  0  3  2  0]\n",
      " [ 1  5  2  2 12  0  1  5  0  0  5  0  1  2  0]]\n"
     ]
    }
   ],
   "source": [
    "# Processed data to be used\n",
    "df = pd.read_csv(\"files/data.csv\")\n",
    "df_array = df.to_numpy()\n",
    "df_array = process.array(df_array)\n",
    "print(df_array)"
   ]
  },
  {
   "cell_type": "code",
   "execution_count": 42,
   "metadata": {},
   "outputs": [],
   "source": [
    "df_array = filter.qt(df_array)"
   ]
  },
  {
   "cell_type": "code",
   "execution_count": 43,
   "metadata": {},
   "outputs": [
    {
     "name": "stdout",
     "output_type": "stream",
     "text": [
      "[[ 0  5  1  0 11  0  1  4  0  1  7  0  3  2  0]\n",
      " [ 1  5  2  2 12  0  1  5  0  0  5  0  1  2  0]]\n"
     ]
    }
   ],
   "source": [
    "print(df_array)"
   ]
  }
 ],
 "metadata": {
  "kernelspec": {
   "display_name": "Python 3.10.6 64-bit",
   "language": "python",
   "name": "python3"
  },
  "language_info": {
   "codemirror_mode": {
    "name": "ipython",
    "version": 3
   },
   "file_extension": ".py",
   "mimetype": "text/x-python",
   "name": "python",
   "nbconvert_exporter": "python",
   "pygments_lexer": "ipython3",
   "version": "3.8.9"
  },
  "orig_nbformat": 4,
  "vscode": {
   "interpreter": {
    "hash": "afb734500600fd355917ca529030176ea0ca205570884b88f2f6f7d791fd3fbe"
   }
  }
 },
 "nbformat": 4,
 "nbformat_minor": 2
}
