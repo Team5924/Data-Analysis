{
 "cells": [
  {
   "cell_type": "code",
   "execution_count": null,
   "metadata": {},
   "outputs": [],
   "source": [
    "# Imports\n",
    "import pandas as pd\n",
    "import numpy as np\n",
    "from tools import process, filter, calculate, compare, sort, export, get"
   ]
  },
  {
   "cell_type": "code",
   "execution_count": null,
   "metadata": {},
   "outputs": [],
   "source": [
    "# Processed data to be used\n",
    "\n",
    "header = pd.read_csv(\"files/data.csv\", sep=\";\").columns.values\n",
    "header = header[1:-1] # Omits the first and last column\n",
    "\n",
    "data = pd.read_csv(\"files/data.csv\", sep=\";\").values\n",
    "data = process.all(data)\n",
    "\n",
    "#print(pd.DataFrame(data))"
   ]
  },
  {
   "cell_type": "code",
   "execution_count": null,
   "metadata": {},
   "outputs": [],
   "source": [
    "# Team Comparison\n",
    "header = [\"Team #\", \"Avg Auto\", \"Avg Teleop\"]\n",
    "teams = [1678, 5940, 254]\n",
    "\n",
    "comparison = compare.team(data, teams)\n",
    "comparison = sort.order(comparison, \"teleop\", True)\n",
    "\n",
    "pd.DataFrame(comparison, columns=header)"
   ]
  },
  {
   "cell_type": "code",
   "execution_count": null,
   "metadata": {},
   "outputs": [],
   "source": [
    "# Match Comparsion\n",
    "header = [\"Team #\", \"Color\", \"Auto\", \"Teleop\", \"Team #\", \"Color\", \"Auto\", \"Teleop\"]\n",
    "match = compare.match(data, 1, 2)\n",
    "match = sort.alliance(match)\n",
    "\n",
    "pd.DataFrame(match, columns=header)"
   ]
  },
  {
   "cell_type": "code",
   "execution_count": null,
   "metadata": {},
   "outputs": [],
   "source": [
    "#Picklist\n",
    "header = [\"Team #\", \"Avg Auto\", \"Avg Teleop\"]\n",
    "list = pd.read_csv(\"files/teams.csv\").values\n",
    "get.teams(data, 4, list)\n",
    "\n",
    "comparison = compare.team(data, teams)\n",
    "comparison = sort.order(comparison, \"teleop\", True)\n",
    "\n",
    "pd.DataFrame(comparison, columns=header)"
   ]
  }
 ],
 "metadata": {
  "kernelspec": {
   "display_name": "Python 3.11.0 ('base')",
   "language": "python",
   "name": "python3"
  },
  "language_info": {
   "codemirror_mode": {
    "name": "ipython",
    "version": 3
   },
   "file_extension": ".py",
   "mimetype": "text/x-python",
   "name": "python",
   "nbconvert_exporter": "python",
   "pygments_lexer": "ipython3",
   "version": "3.11.0"
  },
  "vscode": {
   "interpreter": {
    "hash": "9429e3d8733c1ac76f5c3b0c6cdd2706acd1fd7b4f8c91f27a242412c8600fc4"
   }
  }
 },
 "nbformat": 4,
 "nbformat_minor": 4
}
