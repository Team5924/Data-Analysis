{
 "cells": [
  {
   "cell_type": "code",
   "execution_count": 1,
   "metadata": {},
   "outputs": [],
   "source": [
    "# Imports\n",
    "import pandas as pd\n",
    "import numpy as np\n",
    "from tools import process, filter, calculate, compare, sort, export, get"
   ]
  },
  {
   "cell_type": "code",
   "execution_count": 2,
   "metadata": {},
   "outputs": [],
   "source": [
    "# Processed data to be used\n",
    "\n",
    "header = pd.read_csv(\"files/data.csv\", sep=\";\").columns.values\n",
    "header = header[1:-1] # Omits the first and last column\n",
    "\n",
    "data = pd.read_csv(\"files/data.csv\", sep=\";\").values\n",
    "data = process.all(data)\n",
    "\n",
    "#print(pd.DataFrame(data))"
   ]
  },
  {
   "cell_type": "code",
   "execution_count": 3,
   "metadata": {},
   "outputs": [
    {
     "data": {
      "text/html": [
       "<div>\n",
       "<style scoped>\n",
       "    .dataframe tbody tr th:only-of-type {\n",
       "        vertical-align: middle;\n",
       "    }\n",
       "\n",
       "    .dataframe tbody tr th {\n",
       "        vertical-align: top;\n",
       "    }\n",
       "\n",
       "    .dataframe thead th {\n",
       "        text-align: right;\n",
       "    }\n",
       "</style>\n",
       "<table border=\"1\" class=\"dataframe\">\n",
       "  <thead>\n",
       "    <tr style=\"text-align: right;\">\n",
       "      <th></th>\n",
       "      <th>Team #</th>\n",
       "      <th>Avg Auto</th>\n",
       "      <th>Avg Teleop</th>\n",
       "    </tr>\n",
       "  </thead>\n",
       "  <tbody>\n",
       "    <tr>\n",
       "      <th>0</th>\n",
       "      <td>5940</td>\n",
       "      <td>20</td>\n",
       "      <td>40</td>\n",
       "    </tr>\n",
       "    <tr>\n",
       "      <th>1</th>\n",
       "      <td>254</td>\n",
       "      <td>20</td>\n",
       "      <td>29</td>\n",
       "    </tr>\n",
       "    <tr>\n",
       "      <th>2</th>\n",
       "      <td>1678</td>\n",
       "      <td>20</td>\n",
       "      <td>22</td>\n",
       "    </tr>\n",
       "  </tbody>\n",
       "</table>\n",
       "</div>"
      ],
      "text/plain": [
       "   Team #  Avg Auto  Avg Teleop\n",
       "0    5940        20          40\n",
       "1     254        20          29\n",
       "2    1678        20          22"
      ]
     },
     "execution_count": 3,
     "metadata": {},
     "output_type": "execute_result"
    }
   ],
   "source": [
    "# Team Comparison\n",
    "header = [\"Team #\", \"Avg Auto\", \"Avg Teleop\"]\n",
    "teams = [1678, 5940, 254]\n",
    "\n",
    "comparison = compare.team(data, teams)\n",
    "comparison = sort.order(comparison, \"teleop\", True)\n",
    "\n",
    "pd.DataFrame(comparison, columns=header)"
   ]
  },
  {
   "cell_type": "code",
   "execution_count": 6,
   "metadata": {},
   "outputs": [
    {
     "data": {
      "text/html": [
       "<div>\n",
       "<style scoped>\n",
       "    .dataframe tbody tr th:only-of-type {\n",
       "        vertical-align: middle;\n",
       "    }\n",
       "\n",
       "    .dataframe tbody tr th {\n",
       "        vertical-align: top;\n",
       "    }\n",
       "\n",
       "    .dataframe thead th {\n",
       "        text-align: right;\n",
       "    }\n",
       "</style>\n",
       "<table border=\"1\" class=\"dataframe\">\n",
       "  <thead>\n",
       "    <tr style=\"text-align: right;\">\n",
       "      <th></th>\n",
       "      <th>Team #</th>\n",
       "      <th>Color</th>\n",
       "      <th>Auto</th>\n",
       "      <th>Teleop</th>\n",
       "      <th>Team #</th>\n",
       "      <th>Color</th>\n",
       "      <th>Auto</th>\n",
       "      <th>Teleop</th>\n",
       "    </tr>\n",
       "  </thead>\n",
       "  <tbody>\n",
       "    <tr>\n",
       "      <th>0</th>\n",
       "      <td>1678</td>\n",
       "      <td>Red</td>\n",
       "      <td>20</td>\n",
       "      <td>20</td>\n",
       "      <td>1323</td>\n",
       "      <td>Blue</td>\n",
       "      <td>20</td>\n",
       "      <td>30</td>\n",
       "    </tr>\n",
       "    <tr>\n",
       "      <th>1</th>\n",
       "      <td>973</td>\n",
       "      <td>Red</td>\n",
       "      <td>20</td>\n",
       "      <td>36</td>\n",
       "      <td>5940</td>\n",
       "      <td>Blue</td>\n",
       "      <td>20</td>\n",
       "      <td>32</td>\n",
       "    </tr>\n",
       "    <tr>\n",
       "      <th>2</th>\n",
       "      <td>1072</td>\n",
       "      <td>Red</td>\n",
       "      <td>20</td>\n",
       "      <td>36</td>\n",
       "      <td>254</td>\n",
       "      <td>Blue</td>\n",
       "      <td>20</td>\n",
       "      <td>24</td>\n",
       "    </tr>\n",
       "  </tbody>\n",
       "</table>\n",
       "</div>"
      ],
      "text/plain": [
       "   Team # Color  Auto  Teleop  Team # Color  Auto  Teleop\n",
       "0    1678   Red    20      20    1323  Blue    20      30\n",
       "1     973   Red    20      36    5940  Blue    20      32\n",
       "2    1072   Red    20      36     254  Blue    20      24"
      ]
     },
     "execution_count": 6,
     "metadata": {},
     "output_type": "execute_result"
    }
   ],
   "source": [
    "# Match Comparsion\n",
    "header = [\"Team #\", \"Color\", \"Auto\", \"Teleop\", \"Team #\", \"Color\", \"Auto\", \"Teleop\"]\n",
    "match = compare.match(data, 1, 2)\n",
    "match = sort.alliance(match)\n",
    "\n",
    "pd.DataFrame(match, columns=header)"
   ]
  },
  {
   "cell_type": "code",
   "execution_count": 5,
   "metadata": {},
   "outputs": [
    {
     "data": {
      "text/html": [
       "<div>\n",
       "<style scoped>\n",
       "    .dataframe tbody tr th:only-of-type {\n",
       "        vertical-align: middle;\n",
       "    }\n",
       "\n",
       "    .dataframe tbody tr th {\n",
       "        vertical-align: top;\n",
       "    }\n",
       "\n",
       "    .dataframe thead th {\n",
       "        text-align: right;\n",
       "    }\n",
       "</style>\n",
       "<table border=\"1\" class=\"dataframe\">\n",
       "  <thead>\n",
       "    <tr style=\"text-align: right;\">\n",
       "      <th></th>\n",
       "      <th>Team #</th>\n",
       "      <th>Avg Auto</th>\n",
       "      <th>Avg Teleop</th>\n",
       "    </tr>\n",
       "  </thead>\n",
       "  <tbody>\n",
       "    <tr>\n",
       "      <th>0</th>\n",
       "      <td>5940</td>\n",
       "      <td>20</td>\n",
       "      <td>40</td>\n",
       "    </tr>\n",
       "    <tr>\n",
       "      <th>1</th>\n",
       "      <td>254</td>\n",
       "      <td>20</td>\n",
       "      <td>29</td>\n",
       "    </tr>\n",
       "    <tr>\n",
       "      <th>2</th>\n",
       "      <td>1678</td>\n",
       "      <td>20</td>\n",
       "      <td>22</td>\n",
       "    </tr>\n",
       "  </tbody>\n",
       "</table>\n",
       "</div>"
      ],
      "text/plain": [
       "   Team #  Avg Auto  Avg Teleop\n",
       "0    5940        20          40\n",
       "1     254        20          29\n",
       "2    1678        20          22"
      ]
     },
     "execution_count": 5,
     "metadata": {},
     "output_type": "execute_result"
    }
   ],
   "source": [
    "#Picklist\n",
    "header = [\"Team #\", \"Avg Auto\", \"Avg Teleop\"]\n",
    "list = pd.read_csv(\"files/teams.csv\").values\n",
    "get.teams(data, 4, list)\n",
    "\n",
    "comparison = compare.team(data, teams)\n",
    "comparison = sort.order(comparison, \"teleop\", True)\n",
    "\n",
    "pd.DataFrame(comparison, columns=header)"
   ]
  }
 ],
 "metadata": {
  "kernelspec": {
   "display_name": "Python 3.11.0 ('base')",
   "language": "python",
   "name": "python3"
  },
  "language_info": {
   "codemirror_mode": {
    "name": "ipython",
    "version": 3
   },
   "file_extension": ".py",
   "mimetype": "text/x-python",
   "name": "python",
   "nbconvert_exporter": "python",
   "pygments_lexer": "ipython3",
   "version": "3.11.0"
  },
  "vscode": {
   "interpreter": {
    "hash": "9429e3d8733c1ac76f5c3b0c6cdd2706acd1fd7b4f8c91f27a242412c8600fc4"
   }
  }
 },
 "nbformat": 4,
 "nbformat_minor": 4
}
