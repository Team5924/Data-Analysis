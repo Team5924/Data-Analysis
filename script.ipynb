{
 "cells": [
  {
   "cell_type": "code",
   "execution_count": 1,
   "metadata": {},
   "outputs": [],
   "source": [
    "# Imports\n",
    "import pandas as pd\n",
    "import numpy as np\n",
    "from tools import process, filter, calculate, compare, sort, export"
   ]
  },
  {
   "cell_type": "code",
   "execution_count": 2,
   "metadata": {},
   "outputs": [],
   "source": [
    "# Processed data to be used\n",
    "\n",
    "header = pd.read_csv(\"files/data.csv\", sep=\";\").columns.values\n",
    "header = header[1:-1] # Omit the first and last column\n",
    "\n",
    "data = pd.read_csv(\"files/data.csv\", sep=\";\").values\n",
    "data = process.all(data)\n",
    "\n",
    "# print(pd.DataFrame(data))"
   ]
  },
  {
   "cell_type": "code",
   "execution_count": 8,
   "metadata": {},
   "outputs": [
    {
     "name": "stdout",
     "output_type": "stream",
     "text": [
      "   Teams  Average Auto Points  Average Teleop Points\n",
      "0    254                   20                     29\n",
      "1   1678                   20                     22\n",
      "2   5940                   20                     40\n"
     ]
    }
   ],
   "source": [
    "# Team Comparison\n",
    "header = [\"Teams\", \"Average Auto Points\", \"Average Teleop Points\"]\n",
    "comparison = compare.team(data, 3)\n",
    "comparison = sort.team(comparison)\n",
    "\n",
    "print(pd.DataFrame(comparison, columns=header))"
   ]
  },
  {
   "cell_type": "code",
   "execution_count": 5,
   "metadata": {},
   "outputs": [],
   "source": [
    "# Match Comparsion"
   ]
  },
  {
   "cell_type": "code",
   "execution_count": 6,
   "metadata": {},
   "outputs": [],
   "source": [
    "# Export Picklist"
   ]
  }
 ],
 "metadata": {
  "kernelspec": {
   "display_name": "Python 3.11.0 ('base')",
   "language": "python",
   "name": "python3"
  },
  "language_info": {
   "codemirror_mode": {
    "name": "ipython",
    "version": 3
   },
   "file_extension": ".py",
   "mimetype": "text/x-python",
   "name": "python",
   "nbconvert_exporter": "python",
   "pygments_lexer": "ipython3",
   "version": "3.11.0"
  },
  "vscode": {
   "interpreter": {
    "hash": "9429e3d8733c1ac76f5c3b0c6cdd2706acd1fd7b4f8c91f27a242412c8600fc4"
   }
  }
 },
 "nbformat": 4,
 "nbformat_minor": 4
}
