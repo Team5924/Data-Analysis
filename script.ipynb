{
 "cells": [
  {
   "cell_type": "code",
   "execution_count": null,
   "metadata": {},
   "outputs": [],
   "source": [
    "import pandas as pd\n",
    "import numpy as np\n",
    "from tools import process, filter, calculate, compare, sort, export, get"
   ]
  },
  {
   "cell_type": "code",
   "execution_count": null,
   "metadata": {},
   "outputs": [],
   "source": [
    "# Processed data to be used\n",
    "header = pd.read_csv('files/data.csv', sep=';').columns.values\n",
    "header = header[1:-1] # Omits the first and last column\n",
    "data = pd.read_csv('files/data.csv', sep=';').values\n",
    "data = process.all(data)\n",
    "# print(pd.DataFrame(data))"
   ]
  },
  {
   "cell_type": "code",
   "execution_count": null,
   "metadata": {},
   "outputs": [],
   "source": [
    "# Team Comparison\n",
    "header = ['Team #', 'Avg Auto', 'Avg Teleop']\n",
    "teams = [1678, 5940, 254]\n",
    "comparison = compare.team(data, teams)\n",
    "comparison = sort.order(comparison, 'teleop', True)\n",
    "pd.DataFrame(comparison, columns=header)"
   ]
  },
  {
   "cell_type": "code",
   "execution_count": null,
   "metadata": {},
   "outputs": [],
   "source": [
    "# Match Comparsion\n",
    "header = ['Team #', 'Color', 'Auto', 'Teleop', 'Team #', 'Color', 'Auto', 'Teleop']\n",
    "match = compare.match(data, 1, 2)\n",
    "match = sort.alliance(match)\n",
    "\n",
    "pd.DataFrame(match, columns=header)"
   ]
  },
  {
   "cell_type": "code",
   "execution_count": null,
   "metadata": {},
   "outputs": [],
   "source": [
    "# Picklist\n",
    "header = ['Team #', 'Avg Auto', 'Avg Teleop']\n",
    "list = pd.read_csv('files/teams.csv').values\n",
    "get.teams(data, 4, list)\n",
    "\n",
    "comparison = compare.team(data, teams)\n",
    "comparison = sort.order(comparison, 'teleop', True)\n",
    "\n",
    "pd.DataFrame(comparison, columns=header)"
   ]
  }
 ],
 "metadata": {
  "kernelspec": {
   "display_name": "Python 3.9.12",
   "language": "python",
   "name": "python3"
  },
  "language_info": {
   "name": "python",
   "version": "3.9.12"
  },
  "orig_nbformat": 4,
  "vscode": {
   "interpreter": {
    "hash": "474872bd54ad8d3a636a7eca03180acdb592744adc6b63160102c368fa91b2db"
   }
  }
 },
 "nbformat": 4,
 "nbformat_minor": 2
}
